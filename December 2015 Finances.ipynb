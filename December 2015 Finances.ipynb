{
 "cells": [
  {
   "cell_type": "code",
   "execution_count": 151,
   "metadata": {},
   "outputs": [],
   "source": [
    "#As I looked for data to showcase my technical skills with Python, it occured to me that I had almost a decade worth of data from my own personal budget spreadsheets. This is a sample from December 2015.  "
   ]
  },
  {
   "cell_type": "code",
   "execution_count": 152,
   "metadata": {
    "scrolled": true
   },
   "outputs": [],
   "source": [
    "#Step 1 import all needed programs. Made sure they were all installed using pip. \n",
    "import pandas as pd\n",
    "import numpy as np\n",
    "import matplotlib.pyplot as plt\n",
    "from scipy import stats"
   ]
  },
  {
   "cell_type": "code",
   "execution_count": 153,
   "metadata": {},
   "outputs": [
    {
     "name": "stdout",
     "output_type": "stream",
     "text": [
      "        Date Spending   Description           Mode        Category  Unnamed: 5\n",
      "0        NaN      NaN           NaN             NaN             NaN        NaN\n",
      "1  12/1/2015   $24.13  Eat 24 order          Credit            Food        NaN\n",
      "2  12/1/2015    $6.75          Lyft          Credit  Transportation        NaN\n",
      "3  12/3/2015    $7.47          Lyft          Credit  Transportation        NaN\n",
      "4  12/3/2015    $4.32          Ebay          Credit            Misc        NaN\n",
      "5  12/3/2015    $6.31          Ebay          Credit            Misc        NaN\n",
      "6  12/4/2015    $8.53      In n Out          Credit            Food        NaN\n",
      "7  12/4/2015    $3.50       Laundry  Claremont Cash            Misc        NaN\n",
      "8  12/4/2015    $8.38          Lyft          Credit  Transportation        NaN\n",
      "9  12/5/2015   $16.06        Target          Credit            Food        NaN\n"
     ]
    }
   ],
   "source": [
    "#Step 2 import my spreadsheet saved as a CSV file and print out the first 10 to make sure the data looks correct\n",
    "\n",
    "December_2015 = pd.read_csv('December 2015 Finances.csv')\n",
    "print(December_2015.head(10))"
   ]
  },
  {
   "cell_type": "code",
   "execution_count": 154,
   "metadata": {
    "scrolled": true
   },
   "outputs": [
    {
     "name": "stdout",
     "output_type": "stream",
     "text": [
      "        Date Spending   Description   Mode        Category \n",
      "1  12/1/2015   $24.13  Eat 24 order  Credit            Food\n",
      "2  12/1/2015    $6.75          Lyft  Credit  Transportation\n",
      "3  12/3/2015    $7.47          Lyft  Credit  Transportation\n",
      "4  12/3/2015    $4.32          Ebay  Credit            Misc\n",
      "5  12/3/2015    $6.31          Ebay  Credit            Misc\n"
     ]
    }
   ],
   "source": [
    "#Step 3 Remove Nan/null/empty values so that results aren't altered. The unnamed column and row 0 should not exist.\n",
    "December_2015 = December_2015.dropna(subset=['Date'])\n",
    "del December_2015['Unnamed: 5']\n",
    "print(December_2015.head())"
   ]
  },
  {
   "cell_type": "code",
   "execution_count": 155,
   "metadata": {},
   "outputs": [
    {
     "data": {
      "text/plain": [
       "1     False\n",
       "2     False\n",
       "3     False\n",
       "4     False\n",
       "5     False\n",
       "      ...  \n",
       "72    False\n",
       "73    False\n",
       "74    False\n",
       "75    False\n",
       "76    False\n",
       "Length: 76, dtype: bool"
      ]
     },
     "execution_count": 155,
     "metadata": {},
     "output_type": "execute_result"
    }
   ],
   "source": [
    "#Check for duplicates. There's shouldn't be any. \n",
    "December_2015.duplicated()"
   ]
  },
  {
   "cell_type": "code",
   "execution_count": 156,
   "metadata": {
    "scrolled": true
   },
   "outputs": [
    {
     "name": "stdout",
     "output_type": "stream",
     "text": [
      "1    24.13\n",
      "2     6.75\n",
      "3     7.47\n",
      "4     4.32\n",
      "5     6.31\n",
      "Name: Spending, dtype: float64\n"
     ]
    }
   ],
   "source": [
    "#Step 4: String parse the spending category so that it's only numbers. Can't perform aggregate functions otherwise. \n",
    "\n",
    "December_2015.Spending = December_2015['Spending'].replace('[\\$,]', '', regex = True)\n",
    "December_2015.Spending = pd.to_numeric(December_2015.Spending)\n",
    "print(December_2015.Spending.head())"
   ]
  },
  {
   "cell_type": "code",
   "execution_count": 157,
   "metadata": {
    "scrolled": true
   },
   "outputs": [
    {
     "name": "stdout",
     "output_type": "stream",
     "text": [
      "The total amount spent in December of 2015 is $1632.61\n",
      "The average amount spent in December of 2015 is $21.481710526315787\n",
      "The total number of purchases made in December of 2015 was 76\n"
     ]
    }
   ],
   "source": [
    "#Step 5- get a feel of the data. Seperate specific columns and find the data that i want. \n",
    "spending = December_2015.Spending\n",
    "average_spending = np.mean(spending)\n",
    "total_spending = 0\n",
    "for amount in spending:\n",
    "    total_spending += amount\n",
    "number_of_purchases = len(December_2015.Spending)\n",
    "print(\"The total amount spent in December of 2015 is $\"+  str(total_spending))\n",
    "print(\"The average amount spent in December of 2015 is $\"+ str(average_spending))\n",
    "print(\"The total number of purchases made in December of 2015 was \" + str(number_of_purchases))"
   ]
  },
  {
   "cell_type": "code",
   "execution_count": 158,
   "metadata": {},
   "outputs": [
    {
     "name": "stdout",
     "output_type": "stream",
     "text": [
      "9.004999999999999 ModeResult(mode=array([5.]), count=array([8])) 0.75 180.0\n"
     ]
    }
   ],
   "source": [
    "# Some more aggregate data with spending \n",
    "median_spending = np.median(spending)\n",
    "min = np.min(spending)\n",
    "max = np.max(spending)\n",
    "print(median,mode,min,max)"
   ]
  },
  {
   "cell_type": "code",
   "execution_count": 159,
   "metadata": {},
   "outputs": [
    {
     "data": {
      "image/png": "[encoded data removed]",
      "text/plain": [
       "<Figure size 432x288 with 1 Axes>"
      ]
     },
     "metadata": {
      "needs_background": "light"
     },
     "output_type": "display_data"
    }
   ],
   "source": [
    "#Plot spending. \n",
    "\n",
    "plt.hist(spending, range=(0, 200), bins=8,  edgecolor='black')\n",
    "plt.title(\"December 2015 Purchases\")\n",
    "plt.ylabel(\"Number of purchases in that price range\")\n",
    "plt.xlabel(\"Range of Amount Spent \")\n",
    "plt.axvline(average_spending, color='r', linestyle='solid', linewidth=3, label=\"Mean\")\n",
    "plt.axvline(median_spending, color='y', linestyle='dotted', linewidth=3, label=\"Median\")\n",
    "plt.legend()\n",
    "\n",
    "plt.show()\n",
    "\n",
    "#Since my min is .75 and my max is 180, a range of 0 to 200 seems fitting. Findings: The majority of my purchases were under the $25 range "
   ]
  },
  {
   "cell_type": "code",
   "execution_count": 160,
   "metadata": {
    "scrolled": true
   },
   "outputs": [
    {
     "name": "stdout",
     "output_type": "stream",
     "text": [
      "['Food' 'Transportation' 'Misc' 'Health' 'Fees' 'Clothing']\n"
     ]
    }
   ],
   "source": [
    "# Start categorizing as I please. I want to know how much i spent in each category. \n",
    "print(December_2015['Category '].unique())"
   ]
  },
  {
   "cell_type": "code",
   "execution_count": 170,
   "metadata": {
    "scrolled": true
   },
   "outputs": [
    {
     "name": "stdout",
     "output_type": "stream",
     "text": [
      "        Category   Spending\n",
      "0        Clothing     35.59\n",
      "1            Fees    628.46\n",
      "2            Food    354.31\n",
      "3          Health    157.17\n",
      "4            Misc    239.51\n",
      "5  Transportation    217.57\n"
     ]
    }
   ],
   "source": [
    "spending_by_category = December_2015.groupby('Category ').Spending.sum().reset_index()\n",
    "print(spending_by_category)"
   ]
  },
  {
   "cell_type": "code",
   "execution_count": 172,
   "metadata": {},
   "outputs": [
    {
     "data": {
      "image/png": "[encoded data removed]",
      "text/plain": [
       "<Figure size 1800x360 with 1 Axes>"
      ]
     },
     "metadata": {
      "needs_background": "light"
     },
     "output_type": "display_data"
    }
   ],
   "source": [
    "names = spending_by_category['Category ']\n",
    "values = spending_by_category['Spending']\n",
    "\n",
    "plt.figure(figsize=(25, 5))\n",
    "plt.subplot(131)\n",
    "plt.bar(names, values)\n",
    "plt.title('Spending by Category')\n",
    "plt.xlabel('Categories')\n",
    "plt.ylabel('Total Amount spent')\n",
    "plt.show()"
   ]
  },
  {
   "cell_type": "code",
   "execution_count": 203,
   "metadata": {},
   "outputs": [
    {
     "name": "stdout",
     "output_type": "stream",
     "text": [
      "Total Amount Spent on In n Out = 34.04\n",
      "Total Amount Spent on Ebay = 10.629999999999999\n",
      "Total Amount Spent on Target = 78.3\n",
      "Total Amount Spent on Lyft = 74.01\n"
     ]
    }
   ],
   "source": [
    "#Specific merchants out of curiosity\n",
    "\n",
    "In_n_out = December_2015[December_2015.Description == 'In n Out']\n",
    "Ebay = December_2015[December_2015.Description == 'Ebay']\n",
    "Target = December_2015[December_2015.Description == 'Target']\n",
    "Lyft = December_2015[(December_2015.Description == 'Lyft')]\n",
    "\n",
    "print('Total Amount Spent on In n Out = ' + str(In_n_out.Spending.sum()))\n",
    "print('Total Amount Spent on Ebay = ' + str(Ebay.Spending.sum()))\n",
    "print('Total Amount Spent on Target = ' + str(Target.Spending.sum()))\n",
    "print('Total Amount Spent on Lyft = ' + str(Lyft.Spending.sum()))"
   ]
  },
  {
   "cell_type": "code",
   "execution_count": 204,
   "metadata": {},
   "outputs": [],
   "source": [
    "# Je suis Fini "
   ]
  }
 ],
 "metadata": {
  "kernelspec": {
   "display_name": "Python 3",
   "language": "python",
   "name": "python3"
  },
  "language_info": {
   "codemirror_mode": {
    "name": "ipython",
    "version": 3
   },
   "file_extension": ".py",
   "mimetype": "text/x-python",
   "name": "python",
   "nbconvert_exporter": "python",
   "pygments_lexer": "ipython3",
   "version": "3.8.3"
  }
 },
 "nbformat": 4,
 "nbformat_minor": 4
}
